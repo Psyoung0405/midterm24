{
  "nbformat": 4,
  "nbformat_minor": 0,
  "metadata": {
    "colab": {
      "provenance": [],
      "authorship_tag": "ABX9TyNQ2BpbEsqu/m8FJGCXALPS",
      "include_colab_link": true
    },
    "kernelspec": {
      "name": "python3",
      "display_name": "Python 3"
    },
    "language_info": {
      "name": "python"
    }
  },
  "cells": [
    {
      "cell_type": "markdown",
      "metadata": {
        "id": "view-in-github",
        "colab_type": "text"
      },
      "source": [
        "<a href=\"https://colab.research.google.com/github/Psyoung0405/midterm24/blob/main/2023013211.ipynb\" target=\"_parent\"><img src=\"https://colab.research.google.com/assets/colab-badge.svg\" alt=\"Open In Colab\"/></a>"
      ]
    },
    {
      "cell_type": "code",
      "source": [
        "# Dropdown\n",
        "\n",
        "cardinal_number = \"1\" #@param = [\"1\",\"2\",\"3\",\"4\"]\n",
        "\n",
        "# Add one line of code below\n",
        "cardinal_number = int(cardinal_number)\n",
        "\n",
        "# Ordinal expression as a list\n",
        "\n",
        "words = [\"First\", \"Second\", \"Third\",\"Fourth\"]\n",
        "\n",
        "print(\"The ordinal expression:\", words[cardinal_number])"
      ],
      "metadata": {
        "colab": {
          "base_uri": "https://localhost:8080/",
          "height": 184
        },
        "id": "h1OThhOumO_h",
        "outputId": "770ca532-ceb8-4def-dc5a-d81b9eb48a7d"
      },
      "execution_count": 32,
      "outputs": [
        {
          "output_type": "error",
          "ename": "NameError",
          "evalue": "name 'index' is not defined",
          "traceback": [
            "\u001b[0;31m---------------------------------------------------------------------------\u001b[0m",
            "\u001b[0;31mNameError\u001b[0m                                 Traceback (most recent call last)",
            "\u001b[0;32m<ipython-input-32-ba38252262b0>\u001b[0m in \u001b[0;36m<cell line: 12>\u001b[0;34m()\u001b[0m\n\u001b[1;32m     10\u001b[0m \u001b[0mwords\u001b[0m \u001b[0;34m=\u001b[0m \u001b[0;34m[\u001b[0m\u001b[0;34m\"First\"\u001b[0m\u001b[0;34m,\u001b[0m \u001b[0;34m\"Second\"\u001b[0m\u001b[0;34m,\u001b[0m \u001b[0;34m\"Third\"\u001b[0m\u001b[0;34m,\u001b[0m\u001b[0;34m\"Fourth\"\u001b[0m\u001b[0;34m]\u001b[0m\u001b[0;34m\u001b[0m\u001b[0;34m\u001b[0m\u001b[0m\n\u001b[1;32m     11\u001b[0m \u001b[0;34m\u001b[0m\u001b[0m\n\u001b[0;32m---> 12\u001b[0;31m \u001b[0mprint\u001b[0m\u001b[0;34m(\u001b[0m\u001b[0;34m\"The ordinal expression:\"\u001b[0m\u001b[0;34m,\u001b[0m \u001b[0mwords\u001b[0m\u001b[0;34m[\u001b[0m\u001b[0mindex\u001b[0m\u001b[0;34m[\u001b[0m\u001b[0;36m1\u001b[0m\u001b[0;34m]\u001b[0m\u001b[0;34m]\u001b[0m\u001b[0;34m)\u001b[0m\u001b[0;34m\u001b[0m\u001b[0;34m\u001b[0m\u001b[0m\n\u001b[0m",
            "\u001b[0;31mNameError\u001b[0m: name 'index' is not defined"
          ]
        }
      ]
    },
    {
      "cell_type": "code",
      "execution_count": 4,
      "metadata": {
        "colab": {
          "base_uri": "https://localhost:8080/",
          "height": 0
        },
        "id": "VS6k5KW6Xr13",
        "outputId": "2504c923-4b74-46b2-c191-59c70a36390f"
      },
      "outputs": [
        {
          "output_type": "stream",
          "name": "stdout",
          "text": [
            "Hello,my name is Mary.I was born in 1998, and I'm from Ohio.Nice to meet you.\n"
          ]
        }
      ],
      "source": [
        "#Mary,1998,Ohio;and John,1999,Boston'\n",
        "name = \"Mary\"\n",
        "born_in = \"1998\"\n",
        "hometown = \"Ohio\"\n",
        "print(f\"Hello,my name is {name}.I was born in {born_in}, and I'm from {hometown}.Nice to meet you.\")"
      ]
    },
    {
      "cell_type": "code",
      "source": [
        "#\n",
        "x = \"My name is\"\n",
        "y = \"Sinyoung\"\n",
        "print(x,y)"
      ],
      "metadata": {
        "colab": {
          "base_uri": "https://localhost:8080/",
          "height": 0
        },
        "id": "3JfuT7sPgD0-",
        "outputId": "b82886eb-b890-4510-ec3d-1babcaf76ce3"
      },
      "execution_count": 7,
      "outputs": [
        {
          "output_type": "stream",
          "name": "stdout",
          "text": [
            "My name is Sinyoung\n"
          ]
        }
      ]
    },
    {
      "cell_type": "code",
      "source": [
        "grades = {\"sinyoung\":\"90\",\"nayoung\":\"80\",\"daeun\":\"70\"}"
      ],
      "metadata": {
        "id": "gArix-wagpgu"
      },
      "execution_count": 8,
      "outputs": []
    },
    {
      "cell_type": "code",
      "source": [
        "def division(x, y):\n",
        "    return x / y\n",
        "\n",
        "result = division(20,4)\n",
        "print(result)\n",
        "\n"
      ],
      "metadata": {
        "colab": {
          "base_uri": "https://localhost:8080/",
          "height": 0
        },
        "id": "9c6JvlDlhfre",
        "outputId": "4d721d4a-e243-40c4-8b97-f88a2e432b31"
      },
      "execution_count": 10,
      "outputs": [
        {
          "output_type": "stream",
          "name": "stdout",
          "text": [
            "5.0\n"
          ]
        }
      ]
    },
    {
      "cell_type": "code",
      "source": [
        "\n",
        "!pip install gTTS\n",
        "\n",
        "\n",
        "from gtts import gTTS\n",
        "\n",
        "from IPython.display import Audio, display"
      ],
      "metadata": {
        "colab": {
          "base_uri": "https://localhost:8080/",
          "height": 0
        },
        "id": "SnpytGikieV2",
        "outputId": "4824a74f-7fbf-46a0-cf24-1144e7f51687"
      },
      "execution_count": 11,
      "outputs": [
        {
          "output_type": "stream",
          "name": "stdout",
          "text": [
            "Collecting gTTS\n",
            "  Downloading gTTS-2.5.1-py3-none-any.whl (29 kB)\n",
            "Requirement already satisfied: requests<3,>=2.27 in /usr/local/lib/python3.10/dist-packages (from gTTS) (2.31.0)\n",
            "Requirement already satisfied: click<8.2,>=7.1 in /usr/local/lib/python3.10/dist-packages (from gTTS) (8.1.7)\n",
            "Requirement already satisfied: charset-normalizer<4,>=2 in /usr/local/lib/python3.10/dist-packages (from requests<3,>=2.27->gTTS) (3.3.2)\n",
            "Requirement already satisfied: idna<4,>=2.5 in /usr/local/lib/python3.10/dist-packages (from requests<3,>=2.27->gTTS) (3.7)\n",
            "Requirement already satisfied: urllib3<3,>=1.21.1 in /usr/local/lib/python3.10/dist-packages (from requests<3,>=2.27->gTTS) (2.0.7)\n",
            "Requirement already satisfied: certifi>=2017.4.17 in /usr/local/lib/python3.10/dist-packages (from requests<3,>=2.27->gTTS) (2024.2.2)\n",
            "Installing collected packages: gTTS\n",
            "Successfully installed gTTS-2.5.1\n"
          ]
        }
      ]
    },
    {
      "cell_type": "code",
      "source": [
        "text = \"I have succeeded in this task.\"\n",
        "language = 'en'\n",
        "\n",
        "speech = gTTS(text = text, lang = language, slow = False)\n",
        "\n",
        "speech.save(\"output.mp3\")\n",
        "\n",
        "display(Audio(\"output.mp3\", autoplay=True))\n",
        "print(text)"
      ],
      "metadata": {
        "colab": {
          "base_uri": "https://localhost:8080/",
          "height": 93
        },
        "id": "cjP4gvQNhw6O",
        "outputId": "2a236e47-fce8-4d97-a8e0-9ad3d9dd1445"
      },
      "execution_count": 13,
      "outputs": [
        {
          "output_type": "display_data",
          "data": {
            "text/plain": [
              "<IPython.lib.display.Audio object>"
            ],
            "text/html": [
              "\n",
              "                <audio  controls=\"controls\" autoplay=\"autoplay\">\n",
              "                    <source src=\"data:audio/mpeg;base64,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\" type=\"audio/mpeg\" />\n",
              "                    Your browser does not support the audio element.\n",
              "                </audio>\n",
              "              "
            ]
          },
          "metadata": {}
        },
        {
          "output_type": "stream",
          "name": "stdout",
          "text": [
            "I have succeeded in this task.\n"
          ]
        }
      ]
    },
    {
      "cell_type": "code",
      "source": [
        "!pip install gradio"
      ],
      "metadata": {
        "colab": {
          "base_uri": "https://localhost:8080/",
          "height": 0
        },
        "id": "KOxW43uZjMgX",
        "outputId": "54bb29ac-fa4b-473c-fde9-b6a8e5cef075"
      },
      "execution_count": 14,
      "outputs": [
        {
          "output_type": "stream",
          "name": "stdout",
          "text": [
            "Collecting gradio\n",
            "  Downloading gradio-4.28.3-py3-none-any.whl (12.2 MB)\n",
            "\u001b[2K     \u001b[90m━━━━━━━━━━━━━━━━━━━━━━━━━━━━━━━━━━━━━━━━\u001b[0m \u001b[32m12.2/12.2 MB\u001b[0m \u001b[31m69.8 MB/s\u001b[0m eta \u001b[36m0:00:00\u001b[0m\n",
            "\u001b[?25hCollecting aiofiles<24.0,>=22.0 (from gradio)\n",
            "  Downloading aiofiles-23.2.1-py3-none-any.whl (15 kB)\n",
            "Requirement already satisfied: altair<6.0,>=4.2.0 in /usr/local/lib/python3.10/dist-packages (from gradio) (4.2.2)\n",
            "Collecting fastapi (from gradio)\n",
            "  Downloading fastapi-0.110.3-py3-none-any.whl (91 kB)\n",
            "\u001b[2K     \u001b[90m━━━━━━━━━━━━━━━━━━━━━━━━━━━━━━━━━━━━━━━━\u001b[0m \u001b[32m91.8/91.8 kB\u001b[0m \u001b[31m11.8 MB/s\u001b[0m eta \u001b[36m0:00:00\u001b[0m\n",
            "\u001b[?25hCollecting ffmpy (from gradio)\n",
            "  Downloading ffmpy-0.3.2.tar.gz (5.5 kB)\n",
            "  Preparing metadata (setup.py) ... \u001b[?25l\u001b[?25hdone\n",
            "Collecting gradio-client==0.16.0 (from gradio)\n",
            "  Downloading gradio_client-0.16.0-py3-none-any.whl (314 kB)\n",
            "\u001b[2K     \u001b[90m━━━━━━━━━━━━━━━━━━━━━━━━━━━━━━━━━━━━━━━━\u001b[0m \u001b[32m314.4/314.4 kB\u001b[0m \u001b[31m28.9 MB/s\u001b[0m eta \u001b[36m0:00:00\u001b[0m\n",
            "\u001b[?25hCollecting httpx>=0.24.1 (from gradio)\n",
            "  Downloading httpx-0.27.0-py3-none-any.whl (75 kB)\n",
            "\u001b[2K     \u001b[90m━━━━━━━━━━━━━━━━━━━━━━━━━━━━━━━━━━━━━━━━\u001b[0m \u001b[32m75.6/75.6 kB\u001b[0m \u001b[31m8.5 MB/s\u001b[0m eta \u001b[36m0:00:00\u001b[0m\n",
            "\u001b[?25hRequirement already satisfied: huggingface-hub>=0.19.3 in /usr/local/lib/python3.10/dist-packages (from gradio) (0.20.3)\n",
            "Requirement already satisfied: importlib-resources<7.0,>=1.3 in /usr/local/lib/python3.10/dist-packages (from gradio) (6.4.0)\n",
            "Requirement already satisfied: jinja2<4.0 in /usr/local/lib/python3.10/dist-packages (from gradio) (3.1.3)\n",
            "Requirement already satisfied: markupsafe~=2.0 in /usr/local/lib/python3.10/dist-packages (from gradio) (2.1.5)\n",
            "Requirement already satisfied: matplotlib~=3.0 in /usr/local/lib/python3.10/dist-packages (from gradio) (3.7.1)\n",
            "Requirement already satisfied: numpy~=1.0 in /usr/local/lib/python3.10/dist-packages (from gradio) (1.25.2)\n",
            "Collecting orjson~=3.0 (from gradio)\n",
            "  Downloading orjson-3.10.1-cp310-cp310-manylinux_2_17_x86_64.manylinux2014_x86_64.whl (141 kB)\n",
            "\u001b[2K     \u001b[90m━━━━━━━━━━━━━━━━━━━━━━━━━━━━━━━━━━━━━━━━\u001b[0m \u001b[32m141.1/141.1 kB\u001b[0m \u001b[31m17.0 MB/s\u001b[0m eta \u001b[36m0:00:00\u001b[0m\n",
            "\u001b[?25hRequirement already satisfied: packaging in /usr/local/lib/python3.10/dist-packages (from gradio) (24.0)\n",
            "Requirement already satisfied: pandas<3.0,>=1.0 in /usr/local/lib/python3.10/dist-packages (from gradio) (2.0.3)\n",
            "Requirement already satisfied: pillow<11.0,>=8.0 in /usr/local/lib/python3.10/dist-packages (from gradio) (9.4.0)\n",
            "Requirement already satisfied: pydantic>=2.0 in /usr/local/lib/python3.10/dist-packages (from gradio) (2.7.0)\n",
            "Collecting pydub (from gradio)\n",
            "  Downloading pydub-0.25.1-py2.py3-none-any.whl (32 kB)\n",
            "Collecting python-multipart>=0.0.9 (from gradio)\n",
            "  Downloading python_multipart-0.0.9-py3-none-any.whl (22 kB)\n",
            "Requirement already satisfied: pyyaml<7.0,>=5.0 in /usr/local/lib/python3.10/dist-packages (from gradio) (6.0.1)\n",
            "Collecting ruff>=0.2.2 (from gradio)\n",
            "  Downloading ruff-0.4.2-py3-none-manylinux_2_17_x86_64.manylinux2014_x86_64.whl (8.8 MB)\n",
            "\u001b[2K     \u001b[90m━━━━━━━━━━━━━━━━━━━━━━━━━━━━━━━━━━━━━━━━\u001b[0m \u001b[32m8.8/8.8 MB\u001b[0m \u001b[31m80.3 MB/s\u001b[0m eta \u001b[36m0:00:00\u001b[0m\n",
            "\u001b[?25hCollecting semantic-version~=2.0 (from gradio)\n",
            "  Downloading semantic_version-2.10.0-py2.py3-none-any.whl (15 kB)\n",
            "Collecting tomlkit==0.12.0 (from gradio)\n",
            "  Downloading tomlkit-0.12.0-py3-none-any.whl (37 kB)\n",
            "Collecting typer<1.0,>=0.12 (from gradio)\n",
            "  Downloading typer-0.12.3-py3-none-any.whl (47 kB)\n",
            "\u001b[2K     \u001b[90m━━━━━━━━━━━━━━━━━━━━━━━━━━━━━━━━━━━━━━━━\u001b[0m \u001b[32m47.2/47.2 kB\u001b[0m \u001b[31m5.3 MB/s\u001b[0m eta \u001b[36m0:00:00\u001b[0m\n",
            "\u001b[?25hRequirement already satisfied: typing-extensions~=4.0 in /usr/local/lib/python3.10/dist-packages (from gradio) (4.11.0)\n",
            "Requirement already satisfied: urllib3~=2.0 in /usr/local/lib/python3.10/dist-packages (from gradio) (2.0.7)\n",
            "Collecting uvicorn>=0.14.0 (from gradio)\n",
            "  Downloading uvicorn-0.29.0-py3-none-any.whl (60 kB)\n",
            "\u001b[2K     \u001b[90m━━━━━━━━━━━━━━━━━━━━━━━━━━━━━━━━━━━━━━━━\u001b[0m \u001b[32m60.8/60.8 kB\u001b[0m \u001b[31m7.3 MB/s\u001b[0m eta \u001b[36m0:00:00\u001b[0m\n",
            "\u001b[?25hRequirement already satisfied: fsspec in /usr/local/lib/python3.10/dist-packages (from gradio-client==0.16.0->gradio) (2023.6.0)\n",
            "Collecting websockets<12.0,>=10.0 (from gradio-client==0.16.0->gradio)\n",
            "  Downloading websockets-11.0.3-cp310-cp310-manylinux_2_5_x86_64.manylinux1_x86_64.manylinux_2_17_x86_64.manylinux2014_x86_64.whl (129 kB)\n",
            "\u001b[2K     \u001b[90m━━━━━━━━━━━━━━━━━━━━━━━━━━━━━━━━━━━━━━━━\u001b[0m \u001b[32m129.9/129.9 kB\u001b[0m \u001b[31m14.2 MB/s\u001b[0m eta \u001b[36m0:00:00\u001b[0m\n",
            "\u001b[?25hRequirement already satisfied: entrypoints in /usr/local/lib/python3.10/dist-packages (from altair<6.0,>=4.2.0->gradio) (0.4)\n",
            "Requirement already satisfied: jsonschema>=3.0 in /usr/local/lib/python3.10/dist-packages (from altair<6.0,>=4.2.0->gradio) (4.19.2)\n",
            "Requirement already satisfied: toolz in /usr/local/lib/python3.10/dist-packages (from altair<6.0,>=4.2.0->gradio) (0.12.1)\n",
            "Requirement already satisfied: anyio in /usr/local/lib/python3.10/dist-packages (from httpx>=0.24.1->gradio) (3.7.1)\n",
            "Requirement already satisfied: certifi in /usr/local/lib/python3.10/dist-packages (from httpx>=0.24.1->gradio) (2024.2.2)\n",
            "Collecting httpcore==1.* (from httpx>=0.24.1->gradio)\n",
            "  Downloading httpcore-1.0.5-py3-none-any.whl (77 kB)\n",
            "\u001b[2K     \u001b[90m━━━━━━━━━━━━━━━━━━━━━━━━━━━━━━━━━━━━━━━━\u001b[0m \u001b[32m77.9/77.9 kB\u001b[0m \u001b[31m8.9 MB/s\u001b[0m eta \u001b[36m0:00:00\u001b[0m\n",
            "\u001b[?25hRequirement already satisfied: idna in /usr/local/lib/python3.10/dist-packages (from httpx>=0.24.1->gradio) (3.7)\n",
            "Requirement already satisfied: sniffio in /usr/local/lib/python3.10/dist-packages (from httpx>=0.24.1->gradio) (1.3.1)\n",
            "Collecting h11<0.15,>=0.13 (from httpcore==1.*->httpx>=0.24.1->gradio)\n",
            "  Downloading h11-0.14.0-py3-none-any.whl (58 kB)\n",
            "\u001b[2K     \u001b[90m━━━━━━━━━━━━━━━━━━━━━━━━━━━━━━━━━━━━━━━━\u001b[0m \u001b[32m58.3/58.3 kB\u001b[0m \u001b[31m6.8 MB/s\u001b[0m eta \u001b[36m0:00:00\u001b[0m\n",
            "\u001b[?25hRequirement already satisfied: filelock in /usr/local/lib/python3.10/dist-packages (from huggingface-hub>=0.19.3->gradio) (3.13.4)\n",
            "Requirement already satisfied: requests in /usr/local/lib/python3.10/dist-packages (from huggingface-hub>=0.19.3->gradio) (2.31.0)\n",
            "Requirement already satisfied: tqdm>=4.42.1 in /usr/local/lib/python3.10/dist-packages (from huggingface-hub>=0.19.3->gradio) (4.66.2)\n",
            "Requirement already satisfied: contourpy>=1.0.1 in /usr/local/lib/python3.10/dist-packages (from matplotlib~=3.0->gradio) (1.2.1)\n",
            "Requirement already satisfied: cycler>=0.10 in /usr/local/lib/python3.10/dist-packages (from matplotlib~=3.0->gradio) (0.12.1)\n",
            "Requirement already satisfied: fonttools>=4.22.0 in /usr/local/lib/python3.10/dist-packages (from matplotlib~=3.0->gradio) (4.51.0)\n",
            "Requirement already satisfied: kiwisolver>=1.0.1 in /usr/local/lib/python3.10/dist-packages (from matplotlib~=3.0->gradio) (1.4.5)\n",
            "Requirement already satisfied: pyparsing>=2.3.1 in /usr/local/lib/python3.10/dist-packages (from matplotlib~=3.0->gradio) (3.1.2)\n",
            "Requirement already satisfied: python-dateutil>=2.7 in /usr/local/lib/python3.10/dist-packages (from matplotlib~=3.0->gradio) (2.8.2)\n",
            "Requirement already satisfied: pytz>=2020.1 in /usr/local/lib/python3.10/dist-packages (from pandas<3.0,>=1.0->gradio) (2023.4)\n",
            "Requirement already satisfied: tzdata>=2022.1 in /usr/local/lib/python3.10/dist-packages (from pandas<3.0,>=1.0->gradio) (2024.1)\n",
            "Requirement already satisfied: annotated-types>=0.4.0 in /usr/local/lib/python3.10/dist-packages (from pydantic>=2.0->gradio) (0.6.0)\n",
            "Requirement already satisfied: pydantic-core==2.18.1 in /usr/local/lib/python3.10/dist-packages (from pydantic>=2.0->gradio) (2.18.1)\n",
            "Requirement already satisfied: click>=8.0.0 in /usr/local/lib/python3.10/dist-packages (from typer<1.0,>=0.12->gradio) (8.1.7)\n",
            "Collecting shellingham>=1.3.0 (from typer<1.0,>=0.12->gradio)\n",
            "  Downloading shellingham-1.5.4-py2.py3-none-any.whl (9.8 kB)\n",
            "Requirement already satisfied: rich>=10.11.0 in /usr/local/lib/python3.10/dist-packages (from typer<1.0,>=0.12->gradio) (13.7.1)\n",
            "Collecting starlette<0.38.0,>=0.37.2 (from fastapi->gradio)\n",
            "  Downloading starlette-0.37.2-py3-none-any.whl (71 kB)\n",
            "\u001b[2K     \u001b[90m━━━━━━━━━━━━━━━━━━━━━━━━━━━━━━━━━━━━━━━━\u001b[0m \u001b[32m71.9/71.9 kB\u001b[0m \u001b[31m8.5 MB/s\u001b[0m eta \u001b[36m0:00:00\u001b[0m\n",
            "\u001b[?25hRequirement already satisfied: attrs>=22.2.0 in /usr/local/lib/python3.10/dist-packages (from jsonschema>=3.0->altair<6.0,>=4.2.0->gradio) (23.2.0)\n",
            "Requirement already satisfied: jsonschema-specifications>=2023.03.6 in /usr/local/lib/python3.10/dist-packages (from jsonschema>=3.0->altair<6.0,>=4.2.0->gradio) (2023.12.1)\n",
            "Requirement already satisfied: referencing>=0.28.4 in /usr/local/lib/python3.10/dist-packages (from jsonschema>=3.0->altair<6.0,>=4.2.0->gradio) (0.34.0)\n",
            "Requirement already satisfied: rpds-py>=0.7.1 in /usr/local/lib/python3.10/dist-packages (from jsonschema>=3.0->altair<6.0,>=4.2.0->gradio) (0.18.0)\n",
            "Requirement already satisfied: six>=1.5 in /usr/local/lib/python3.10/dist-packages (from python-dateutil>=2.7->matplotlib~=3.0->gradio) (1.16.0)\n",
            "Requirement already satisfied: markdown-it-py>=2.2.0 in /usr/local/lib/python3.10/dist-packages (from rich>=10.11.0->typer<1.0,>=0.12->gradio) (3.0.0)\n",
            "Requirement already satisfied: pygments<3.0.0,>=2.13.0 in /usr/local/lib/python3.10/dist-packages (from rich>=10.11.0->typer<1.0,>=0.12->gradio) (2.16.1)\n",
            "Requirement already satisfied: exceptiongroup in /usr/local/lib/python3.10/dist-packages (from anyio->httpx>=0.24.1->gradio) (1.2.1)\n",
            "Requirement already satisfied: charset-normalizer<4,>=2 in /usr/local/lib/python3.10/dist-packages (from requests->huggingface-hub>=0.19.3->gradio) (3.3.2)\n",
            "Requirement already satisfied: mdurl~=0.1 in /usr/local/lib/python3.10/dist-packages (from markdown-it-py>=2.2.0->rich>=10.11.0->typer<1.0,>=0.12->gradio) (0.1.2)\n",
            "Building wheels for collected packages: ffmpy\n",
            "  Building wheel for ffmpy (setup.py) ... \u001b[?25l\u001b[?25hdone\n",
            "  Created wheel for ffmpy: filename=ffmpy-0.3.2-py3-none-any.whl size=5584 sha256=fffaa589ac06f0fd0269f60efd8f096862aa205dfefa8d75d11f1a59f3d8029a\n",
            "  Stored in directory: /root/.cache/pip/wheels/bd/65/9a/671fc6dcde07d4418df0c592f8df512b26d7a0029c2a23dd81\n",
            "Successfully built ffmpy\n",
            "Installing collected packages: pydub, ffmpy, websockets, tomlkit, shellingham, semantic-version, ruff, python-multipart, orjson, h11, aiofiles, uvicorn, starlette, httpcore, typer, httpx, fastapi, gradio-client, gradio\n",
            "  Attempting uninstall: typer\n",
            "    Found existing installation: typer 0.9.4\n",
            "    Uninstalling typer-0.9.4:\n",
            "      Successfully uninstalled typer-0.9.4\n",
            "\u001b[31mERROR: pip's dependency resolver does not currently take into account all the packages that are installed. This behaviour is the source of the following dependency conflicts.\n",
            "spacy 3.7.4 requires typer<0.10.0,>=0.3.0, but you have typer 0.12.3 which is incompatible.\n",
            "weasel 0.3.4 requires typer<0.10.0,>=0.3.0, but you have typer 0.12.3 which is incompatible.\u001b[0m\u001b[31m\n",
            "\u001b[0mSuccessfully installed aiofiles-23.2.1 fastapi-0.110.3 ffmpy-0.3.2 gradio-4.28.3 gradio-client-0.16.0 h11-0.14.0 httpcore-1.0.5 httpx-0.27.0 orjson-3.10.1 pydub-0.25.1 python-multipart-0.0.9 ruff-0.4.2 semantic-version-2.10.0 shellingham-1.5.4 starlette-0.37.2 tomlkit-0.12.0 typer-0.12.3 uvicorn-0.29.0 websockets-11.0.3\n"
          ]
        }
      ]
    },
    {
      "cell_type": "code",
      "source": [
        "import gradio as gr\n",
        "from gtts import gTTS\n",
        "import os\n",
        "\n",
        "def text_to_speech(text, language):\n",
        "    de = 'enlang_co' if language == \"English\" else 'ko'\n",
        "    tts = gTTS(text=\"I have succeed in this task.\", lang=lang_code, slow=False)\n",
        "    tts.save(\"output.mp3\")\n",
        "    return \"output.mp3\"\n",
        "\n",
        "    language = 'en'\n",
        "\n",
        "speech = gTTS(text = \"I have succeed in this task..\", lang = language, slow = False)\n",
        "\n",
        "speech.save(\"output.mp3\")\n",
        "\n",
        "display(Audio(\"output.mp3\", autoplay=True))\n",
        "print(text)\n",
        "\n",
        "interface = gr.Interface(\n",
        "    fn=text_to_speech,\n",
        "    inputs=[\n",
        "        gr.Textbox(lines=3, label=\"Enter text\"),\n",
        "        gr.Radio(choices=[\"English\", \"Korean\"], label=\"Select language\")\n",
        "    ],\n",
        "    outputs=gr.Audio(type=\"filepath\", label=\"Audio\"),\n",
        "    title=\"Text-to-Speech\",\n",
        "    description=\"Type in some text, select a language, and generate audio.\",\n",
        ")\n",
        "\n",
        "interface.launch()\n",
        "\n"
      ],
      "metadata": {
        "colab": {
          "base_uri": "https://localhost:8080/",
          "height": 726
        },
        "id": "EgH_DtjgjVFn",
        "outputId": "014039ea-54ed-4722-fc97-332f293f02b4"
      },
      "execution_count": 24,
      "outputs": [
        {
          "output_type": "display_data",
          "data": {
            "text/plain": [
              "<IPython.lib.display.Audio object>"
            ],
            "text/html": [
              "\n",
              "                <audio  controls=\"controls\" autoplay=\"autoplay\">\n",
              "                    <source src=\"data:audio/mpeg;base64,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\" type=\"audio/mpeg\" />\n",
              "                    Your browser does not support the audio element.\n",
              "                </audio>\n",
              "              "
            ]
          },
          "metadata": {}
        },
        {
          "output_type": "stream",
          "name": "stdout",
          "text": [
            "I have succeeded in this task.\n",
            "Setting queue=True in a Colab notebook requires sharing enabled. Setting `share=True` (you can turn this off by setting `share=False` in `launch()` explicitly).\n",
            "\n",
            "Colab notebook detected. To show errors in colab notebook, set debug=True in launch()\n",
            "Running on public URL: https://c3815322ab64e9937e.gradio.live\n",
            "\n",
            "This share link expires in 72 hours. For free permanent hosting and GPU upgrades, run `gradio deploy` from Terminal to deploy to Spaces (https://huggingface.co/spaces)\n"
          ]
        },
        {
          "output_type": "display_data",
          "data": {
            "text/plain": [
              "<IPython.core.display.HTML object>"
            ],
            "text/html": [
              "<div><iframe src=\"https://c3815322ab64e9937e.gradio.live\" width=\"100%\" height=\"500\" allow=\"autoplay; camera; microphone; clipboard-read; clipboard-write;\" frameborder=\"0\" allowfullscreen></iframe></div>"
            ]
          },
          "metadata": {}
        },
        {
          "output_type": "execute_result",
          "data": {
            "text/plain": []
          },
          "metadata": {},
          "execution_count": 24
        }
      ]
    },
    {
      "cell_type": "code",
      "source": [
        "import gradio as gr\n",
        "from datetime import datetime\n",
        "\n",
        "def countdown(target_date):\n",
        "    try:\n",
        "        # Parse the user input date\n",
        "        date_format = \"%Y-%m-%d\"\n",
        "        future_date = datetime.strptime(target_date, date_format)\n",
        "\n",
        "        # Get the current time\n",
        "        now = datetime.now()\n",
        "\n",
        "        # Calculate the difference between the future date and the current time\n",
        "        countdown = future_date - now\n",
        "\n",
        "        # Generate the countdown message\n",
        "        if countdown.days >= 0:\n",
        "            return f\"Time until {target_date}: \\n {countdown.days} days, {countdown.seconds//3600} hours, {(countdown.seconds//60)%60} minutes.\"\n",
        "        else:\n",
        "            return \"The specified date has already passed.\"\n",
        "    except ValueError:\n",
        "        return \"Please enter the date in YYYY-MM-DD format.\"\n",
        "\n",
        "# Create the Gradio interface\n",
        "interface = gr.Interface(\n",
        "    fn=countdown,\n",
        "    inputs=gr.Text(label=\"Enter a future date (e.g., 2024-12-25)\"),\n",
        "    outputs=\"text\",\n",
        "    title=\"Date Countdown\",\n",
        "    description=\"Enter a date to see how many days, hours, and minutes are left until the designated date.\"\n",
        ")\n",
        "\n",
        "interface.launch()\n",
        " if language == \"ko\" else 'English'\n"
      ],
      "metadata": {
        "colab": {
          "base_uri": "https://localhost:8080/",
          "height": 110
        },
        "id": "8NtQ7ASlk-eo",
        "outputId": "738899cb-8065-49dc-b968-74381c19848e"
      },
      "execution_count": 30,
      "outputs": [
        {
          "output_type": "error",
          "ename": "IndentationError",
          "evalue": "unexpected indent (<ipython-input-30-a02942cfda13>, line 34)",
          "traceback": [
            "\u001b[0;36m  File \u001b[0;32m\"<ipython-input-30-a02942cfda13>\"\u001b[0;36m, line \u001b[0;32m34\u001b[0m\n\u001b[0;31m    if language == \"ko\" else 'English'\u001b[0m\n\u001b[0m    ^\u001b[0m\n\u001b[0;31mIndentationError\u001b[0m\u001b[0;31m:\u001b[0m unexpected indent\n"
          ]
        }
      ]
    }
  ]
}